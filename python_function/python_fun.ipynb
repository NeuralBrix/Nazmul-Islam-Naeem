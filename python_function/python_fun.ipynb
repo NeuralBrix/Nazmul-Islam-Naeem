{
 "cells": [
  {
   "cell_type": "code",
   "execution_count": 2,
   "id": "bc8484bb",
   "metadata": {},
   "outputs": [],
   "source": [
    "# funtion syntax\n",
    "def greet(name):\n",
    "    print(\"Hello, \" + name + \". Good morning!\")\n",
    "\n",
    "     "
   ]
  },
  {
   "cell_type": "code",
   "execution_count": 3,
   "metadata": {},
   "outputs": [
    {
     "name": "stdout",
     "output_type": "stream",
     "text": [
      "Hello, naeem. Good morning!\n"
     ]
    }
   ],
   "source": [
    "greet('naeem')"
   ]
  },
  {
   "cell_type": "code",
   "execution_count": 6,
   "id": "950b659d",
   "metadata": {},
   "outputs": [],
   "source": [
    "def my_name(name):\n",
    "    print(f\"My name is {name}\")\n",
    "    \n",
    "    "
   ]
  },
  {
   "cell_type": "code",
   "execution_count": 8,
   "metadata": {},
   "outputs": [
    {
     "name": "stdout",
     "output_type": "stream",
     "text": [
      "My name is Naeem\n"
     ]
    }
   ],
   "source": [
    "my_name(\"Naeem\")"
   ]
  },
  {
   "cell_type": "code",
   "execution_count": 9,
   "id": "a2f87535",
   "metadata": {},
   "outputs": [],
   "source": [
    "def my01(add):\n",
    "    print(F\"Value is {add}\")\n",
    "    "
   ]
  },
  {
   "cell_type": "code",
   "execution_count": 15,
   "id": "3f3213ea",
   "metadata": {},
   "outputs": [
    {
     "name": "stdout",
     "output_type": "stream",
     "text": [
      "Value is naeem\n",
      "Value is 25\n",
      "Value is 3.14\n"
     ]
    },
    {
     "data": {
      "text/plain": [
       "(None, None)"
      ]
     },
     "execution_count": 15,
     "metadata": {},
     "output_type": "execute_result"
    }
   ],
   "source": [
    "my01(\"naeem\")\n",
    "my01(25),my01(3.14)"
   ]
  },
  {
   "cell_type": "code",
   "execution_count": 16,
   "metadata": {},
   "outputs": [
    {
     "data": {
      "text/plain": [
       "function"
      ]
     },
     "execution_count": 16,
     "metadata": {},
     "output_type": "execute_result"
    }
   ],
   "source": [
    "type(my01)"
   ]
  },
  {
   "cell_type": "code",
   "execution_count": 17,
   "id": "89958322",
   "metadata": {},
   "outputs": [],
   "source": [
    "def my02():\n",
    "    print(\"hello\")\n",
    "    "
   ]
  },
  {
   "cell_type": "code",
   "execution_count": 18,
   "id": "ea2078f7",
   "metadata": {},
   "outputs": [
    {
     "name": "stdout",
     "output_type": "stream",
     "text": [
      "hello\n"
     ]
    }
   ],
   "source": [
    "my02()"
   ]
  },
  {
   "cell_type": "code",
   "execution_count": 27,
   "metadata": {},
   "outputs": [
    {
     "data": {
      "text/plain": [
       "17"
      ]
     },
     "execution_count": 27,
     "metadata": {},
     "output_type": "execute_result"
    }
   ],
   "source": [
    "def add_num(x, y):\n",
    "    return x + y\n",
    "\n",
    "result = add_num(9,8)\n",
    "add_num(9,8)\n",
    "#print (result)"
   ]
  },
  {
   "cell_type": "code",
   "execution_count": 28,
   "id": "8a1ce3a3",
   "metadata": {},
   "outputs": [
    {
     "name": "stdout",
     "output_type": "stream",
     "text": [
      "42\n"
     ]
    }
   ],
   "source": [
    "print(add_num(20,22))"
   ]
  },
  {
   "cell_type": "code",
   "execution_count": 30,
   "metadata": {},
   "outputs": [
    {
     "name": "stdout",
     "output_type": "stream",
     "text": [
      "17\n"
     ]
    }
   ],
   "source": [
    "print(result)"
   ]
  },
  {
   "cell_type": "code",
   "execution_count": 32,
   "id": "5eb91bc2",
   "metadata": {},
   "outputs": [],
   "source": [
    "#Positional arguments\n",
    "def person(name, age):\n",
    "    print(\"Name: \", name)\n",
    "    print(\"Age: \", age)"
   ]
  },
  {
   "cell_type": "code",
   "execution_count": 33,
   "metadata": {},
   "outputs": [
    {
     "name": "stdout",
     "output_type": "stream",
     "text": [
      "Name:  Naeem\n",
      "Age:  33\n"
     ]
    }
   ],
   "source": [
    "person(\"Naeem\",33)"
   ]
  },
  {
   "cell_type": "code",
   "execution_count": null,
   "id": "d2c85b48",
   "metadata": {},
   "outputs": [],
   "source": []
  },
  {
   "cell_type": "code",
   "execution_count": null,
   "metadata": {},
   "outputs": [],
   "source": []
  },
  {
   "cell_type": "code",
   "execution_count": null,
   "id": "f4c7d55d",
   "metadata": {},
   "outputs": [],
   "source": []
  },
  {
   "cell_type": "code",
   "execution_count": null,
   "metadata": {},
   "outputs": [],
   "source": []
  }
 ],
 "metadata": {
  "kernelspec": {
   "display_name": "base",
   "language": "python",
   "name": "python3"
  },
  "language_info": {
   "codemirror_mode": {
    "name": "ipython",
    "version": 3
   },
   "file_extension": ".py",
   "mimetype": "text/x-python",
   "name": "python",
   "nbconvert_exporter": "python",
   "pygments_lexer": "ipython3",
   "version": "3.13.5"
  }
 },
 "nbformat": 4,
 "nbformat_minor": 5
}
