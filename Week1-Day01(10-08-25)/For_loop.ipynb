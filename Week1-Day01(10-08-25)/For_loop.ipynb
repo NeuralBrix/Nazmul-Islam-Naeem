{
 "cells": [
  {
   "cell_type": "code",
   "execution_count": 4,
   "id": "ec5d02e3",
   "metadata": {},
   "outputs": [
    {
     "name": "stdout",
     "output_type": "stream",
     "text": [
      "1\n",
      "2\n",
      "3\n",
      "4\n",
      "5\n",
      "6\n",
      "7\n",
      "8\n",
      "9\n"
     ]
    }
   ],
   "source": [
    "# for loop কি ভাবে কাজ করে?\n",
    "# for loop এর মাধ্যমে আমরা একটি নির্দিষ্ট সংখ্যক বার বার প্রিন্ট করা যায়।\n",
    "# উদাহরণস্বরূপ, ১ থেকে ১০ পর্যন্ত সংখ্যা প্রিন্ট করা।\n",
    "# সিনট্যাক্স:\n",
    "# for variable(i) in range(start(1), end(10), step(1)):\n",
    "#     print(variable(i)) \n",
    "\n",
    "for i in range ( 1, 10):\n",
    "    print (i) # এখানে ১ থেকে ১০ পর্যন্ত সংখ্যা প্রিন্ট করা হবে।\n"
   ]
  },
  {
   "cell_type": "code",
   "execution_count": 3,
   "id": "2b68cc0e",
   "metadata": {},
   "outputs": [
    {
     "name": "stdout",
     "output_type": "stream",
     "text": [
      "1\n",
      "3\n",
      "5\n",
      "7\n",
      "9\n"
     ]
    }
   ],
   "source": [
    "# এখন আমরা ফর লুপ ব্যাবহার করে বিজোর সংখ্যা প্রিন্ট করব।\n",
    "#সিনট্যাক্স:\n",
    "# for variable in range ( start , end , step):\n",
    "# এখানে আমরা যদি ১ থেকে শুরু করি আর ২ ঘর পর পর প্রিন্ট করি তাহলে বিজোর সংখ্যা প্রিন্ট হবে।\n",
    "for i in range ( 1, 11, 2):\n",
    "    print (i)"
   ]
  },
  {
   "cell_type": "code",
   "execution_count": 5,
   "id": "dd7bce71",
   "metadata": {},
   "outputs": [
    {
     "name": "stdout",
     "output_type": "stream",
     "text": [
      "2\n",
      "4\n",
      "6\n",
      "8\n",
      "10\n"
     ]
    }
   ],
   "source": [
    "#একই ভবে এখন যদি আমরা জোড় সংখ্যা প্রিন্ট করতে চাই তাহলে ২ থেকে শুরু করে ২ ঘর পর পর প্রিন্ট করব।\n",
    "for i in range ( 2, 11, 2):\n",
    "    print (i)"
   ]
  },
  {
   "cell_type": "code",
   "execution_count": 10,
   "id": "8aca312b",
   "metadata": {},
   "outputs": [
    {
     "name": "stdout",
     "output_type": "stream",
     "text": [
      "0\n",
      "2\n",
      "4\n",
      "6\n",
      "8\n",
      "**************************\n",
      "1\n",
      "3\n",
      "5\n",
      "7\n",
      "9\n"
     ]
    }
   ],
   "source": [
    "# এবার আমরা জোড় , বিজড় সংখা প্রিন্ট করবো কিন্ত কন্ডিশন দিয়ে।\n",
    "\n",
    "#জোড় সংখা \n",
    "for i in range (0, 10):\n",
    "    if i % 2 == 0: \n",
    "        print (i)\n",
    "print(\"**************************\")\n",
    "# বিজড় সংখ্যা\n",
    "for i in range (0, 10):\n",
    "    if i % 2 != 0: \n",
    "        print (i)"
   ]
  },
  {
   "cell_type": "code",
   "execution_count": 15,
   "id": "a6d824b8",
   "metadata": {},
   "outputs": [
    {
     "name": "stdout",
     "output_type": "stream",
     "text": [
      "1\n",
      "3\n",
      "5\n",
      "7\n",
      "9\n",
      "11\n",
      "13\n",
      "15\n",
      "17\n",
      "19\n"
     ]
    }
   ],
   "source": [
    "# এখন আমরা চাচ্ছি ১০০ পর্যন্ত বিজড় সংখ্যা প্রিন্ট করতে। কিন্ত আমি ৪১ এ গিয়ে থামাতে চাচ্ছি এটা কি সম্ভব?\n",
    "# হা, এটা সম্ভব । আমরা এখন লুপ চলাকালিন অবস্থায় কন্ডীশোন দিয়ে থামাতে পারি \n",
    "# সিনট্যাক্স:\n",
    "# for variable in range (start, end , step):\n",
    "#     if condition:\n",
    "#         break # এখানে ব্রেক দিয়ে লুপ থামিয়ে দিতে পারি।  \n",
    "#      if condition:\n",
    "#     print(variable)\n",
    "\n",
    "for i in range (0,100):\n",
    "    if i == 21:\n",
    "        break\n",
    "    if i % 2 != 0:\n",
    "        print (i)\n",
    "    "
   ]
  },
  {
   "cell_type": "code",
   "execution_count": 21,
   "id": "43418acb",
   "metadata": {},
   "outputs": [
    {
     "name": "stdout",
     "output_type": "stream",
     "text": [
      "1\n",
      "2\n",
      "3\n",
      "4\n",
      "5\n",
      "6\n",
      "8\n",
      "9\n"
     ]
    }
   ],
   "source": [
    "# এখন আমরা চাচ্ছি ফর লুপ দিয়ে তো  চলমান অবস্থায় থামিয়ে দিলাম ।\n",
    "# কিন্ত নির্দিস্ট  সংখ্যা বাদ দিয়ে বাকি টা কি প্রিন্ট করা যাবে ? উত্তর হা হা, এটা সম্ভব।\n",
    "# সিনট্যাক্স:\n",
    "# for variable(i) in range (start(1), end (20), step): no step used\n",
    "#     if condition: if i == 5:\n",
    "#         continue # এখানে কন্টিনিউ দিয়ে লুপ চলমান অবস্থায় নির্দিস্ট সংখ্যা বাদ দিয়ে বাকি টা প্রিন্ট করতে পারি।  \n",
    "#     print(variable(i))\n",
    "\n",
    "\n",
    "for i in range (1, 10):\n",
    "    if i == 7:\n",
    "        continue\n",
    "    print(i)"
   ]
  },
  {
   "cell_type": "code",
   "execution_count": 23,
   "id": "6c0bd270",
   "metadata": {},
   "outputs": [
    {
     "name": "stdout",
     "output_type": "stream",
     "text": [
      "1\n",
      "2\n",
      "4\n",
      "6\n",
      "8\n",
      "10\n",
      "11\n",
      "12\n",
      "13\n",
      "14\n"
     ]
    }
   ],
   "source": [
    "# এখন চাচ্ছি একাধিক ্নাম্বার বাদ দিয়ে বাকি টা প্রিন্ট করতে।\n",
    "\n",
    "for i in range (1, 15):\n",
    "    if i in [3, 5, 7, 9]: # এখানে ৩, ৫, ৭, ৯ বাদ দিয়ে বাকি টা প্রিন্ট হবে।\n",
    "        continue\n",
    "    print(i)"
   ]
  },
  {
   "cell_type": "code",
   "execution_count": null,
   "id": "1bfefa06",
   "metadata": {},
   "outputs": [
    {
     "name": "stdout",
     "output_type": "stream",
     "text": [
      "1\n",
      "2\n",
      "3\n",
      "8\n",
      "9\n",
      "10\n",
      "11\n",
      "12\n",
      "13\n",
      "14\n",
      "15\n",
      "16\n",
      "17\n",
      "18\n",
      "19\n"
     ]
    }
   ],
   "source": [
    "# আবার চাইলে আমরা এক সাথে একাধিক সিরিয়াললি (৪-৮) বাদ দিতে পারি।\n",
    "#সিনট্যাক্স:\n",
    "#for variable (i) in range ( start(1), end (20), step):\n",
    "#     if i in range (4,8):  ৪ থেকে ৭ পর্যন্ত বাদ যাবে\n",
    "#         continue\n",
    "#   print variable (i)\n",
    "\n",
    "\n",
    "for i in range (1, 20 ):\n",
    "    if i in range (4,8):\n",
    "        continue\n",
    "    print (i)"
   ]
  },
  {
   "cell_type": "code",
   "execution_count": null,
   "id": "286b93e0",
   "metadata": {},
   "outputs": [],
   "source": []
  }
 ],
 "metadata": {
  "kernelspec": {
   "display_name": "base",
   "language": "python",
   "name": "python3"
  },
  "language_info": {
   "codemirror_mode": {
    "name": "ipython",
    "version": 3
   },
   "file_extension": ".py",
   "mimetype": "text/x-python",
   "name": "python",
   "nbconvert_exporter": "python",
   "pygments_lexer": "ipython3",
   "version": "3.13.5"
  }
 },
 "nbformat": 4,
 "nbformat_minor": 5
}
