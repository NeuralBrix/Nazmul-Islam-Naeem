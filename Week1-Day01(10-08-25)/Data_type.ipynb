{
 "cells": [
  {
   "cell_type": "code",
   "execution_count": null,
   "id": "90c0a4a4",
   "metadata": {},
   "outputs": [
    {
     "name": "stdout",
     "output_type": "stream",
     "text": [
      "Integer: 20\n",
      "<class 'float'>\n",
      "<class 'int'>\n"
     ]
    }
   ],
   "source": [
    "#আমরা আজ দেখবো পাইথনের ডাটা টাইপ কত প্রকারের হয় এবং কিভাবে আমরা এগুলো ব্যবহার করতে পারি।\n",
    "\n",
    "# পাইথনের ডাটা টাইপের মধ্যে রয়েছে:\n",
    "# 1. integer (পূর্ণসংখ্যা)\n",
    "x = 20\n",
    "print(\"Integer:\", x) # পূর্ণসংখ্যা integer সর্বদা পূর্ণসংখ্যা হিসেবে কাজ করে। এখানে কোনো দশমিক নেই।\n",
    "\n",
    "x = 30.0 # এখানে x কে দশমিক সংখ্যা হিসেবে সংজ্ঞায়িত করা \n",
    "y = 30 # এখানে y কে পূর্ণসংখ্যা হিসেবে সংজ্ঞায়িত করা হয়েছে।\n",
    "# যখন আমরা x কে 30.0 দিয়ে সংজ্ঞায়িত করি, তখন এটি একটি দশমিক সংখ্যা (float) হিসেবে বিবেচিত হয়।\n",
    "# যা এখন আর ইন্টেজার নয় বরং ফ্লোট (float) টাইপের। \n",
    "print(type(x)) # পূর্ণসংখ্যা integer এর টাইপ চেক করতে type() ফাংশন ব্যবহার করা হয়।\n",
    "print(type(y)) # পূর্ণসংখ্যা integer এর টাইপ চেক করতে type() ফাংশন ব্যবহার করা হয়।\n"
   ]
  },
  {
   "cell_type": "code",
   "execution_count": null,
   "id": "174f76b0",
   "metadata": {},
   "outputs": [
    {
     "name": "stdout",
     "output_type": "stream",
     "text": [
      "String: Hello, World!\n",
      "<class 'str'>\n",
      "<class 'str'>\n",
      "<class 'str'>\n",
      "<class 'str'>\n",
      "<class 'str'>\n"
     ]
    }
   ],
   "source": [
    "# 3. string (স্ট্রিং)\n",
    "x = \"Hello, World!\" # স্ট্রিং হলো টেক্সট ডাটা যা সাধারণত ডাবল কোটস বা সিঙ্গেল কোটস দিয়ে ঘেরা থাকে।\n",
    "print(\"String:\", x) # স্ট্রিং এর মান প্রিন্ট করা হয়েছে।\n",
    "print(type(x)) # এখানে type() ফাংশন ব্যবহার করে x  এর টাইপ চেক করা হয়েছে। \n",
    "\n",
    "# এখন মনে হতেই পারে তাহলে কি আমরা স্টিং এ নাম্বার লিখতে পারি? হ্যাঁ, আমরা স্ট্রিং এ নাম্বার লিখতে পারি।\n",
    "# এক কথায় বলা যায়, আমরা ডাবল বা সিঙ্গেল কোটসের মধ্যে যা লিখবো সেটাই স্ট্রিং হিসেবে বিবেচিত হবে। \n",
    "# যেমন:\n",
    "x = \"12345\" \n",
    "y = \"20.323\"\n",
    "z = \"hello 123\"\n",
    "a = \"@#$% world\"\n",
    "\n",
    "print(type(x)) \n",
    "print(type(y))\n",
    "print(type(z))\n",
    "print(type(a))\n",
    "# এখানে x, y, z এবং a সবগুলোই স্ট্রিং টাইপের।"
   ]
  },
  {
   "cell_type": "code",
   "execution_count": null,
   "metadata": {},
   "outputs": [
    {
     "name": "stdout",
     "output_type": "stream",
     "text": [
      "boolean is : True\n",
      "boolean is : False\n",
      "boolean is : True\n",
      "boolean is : False\n"
     ]
    }
   ],
   "source": [
    "# 4. boolean (বুলিয়ান)\n",
    "# বুলিয়ান হলো সত্য (True) বা মিথ্যা (False) এর মান। এটি সাধারণত লজিক্যাল অপারেশন এবং শর্তাবলীতে ব্যবহৃত হয়।\n",
    "x = 10\n",
    "y = 20\n",
    "print(\"boolean is :\", x <y) # এখানে চেক করা হয়েছে এক্স এর মান কি Y  এর চেয়ে ছোট ? true হবে\n",
    "print(\"boolean is :\", x > y) # এখানে চেক করা হয়েছে এক্স এর মান কি Y  এর চেয়ে বড় ? false হবে\n",
    "print(\"boolean is :\", x != y) # এখানে চেক করা হয়েছে এক্স এর মান কি Y  এর সমান নয় ? true হবে\n",
    "print(\"boolean is :\", x == y) # এখানে চেক করা হয়েছে এক্স এর মান কি Y  এর সমান ? false হবে \n",
    "# এক কথায় বলা যায় যে বুলিয়ান সর্বদা সত্য (True) বা মিথ্যা (False) এর মান হিসেবে কাজ করে।\n",
    "\n",
    "\n"
   ]
  },
  {
   "cell_type": "code",
   "execution_count": null,
   "id": "6bce06ee",
   "metadata": {},
   "outputs": [],
   "source": []
  }
 ],
 "metadata": {
  "kernelspec": {
   "display_name": "base",
   "language": "python",
   "name": "python3"
  },
  "language_info": {
   "codemirror_mode": {
    "name": "ipython",
    "version": 3
   },
   "file_extension": ".py",
   "mimetype": "text/x-python",
   "name": "python",
   "nbconvert_exporter": "python",
   "pygments_lexer": "ipython3",
   "version": "3.13.5"
  }
 },
 "nbformat": 4,
 "nbformat_minor": 5
}
