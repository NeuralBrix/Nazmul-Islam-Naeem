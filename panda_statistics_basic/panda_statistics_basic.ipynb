{
 "cells": [
  {
   "cell_type": "code",
   "execution_count": 1,
   "id": "4a68d3e0",
   "metadata": {},
   "outputs": [],
   "source": [
    "import pandas as pd"
   ]
  },
  {
   "cell_type": "code",
   "execution_count": 3,
   "id": "1bfd5547",
   "metadata": {},
   "outputs": [],
   "source": [
    "# make a dataset with random numbers\n",
    "data = {\n",
    "    \"name\": [\"Alice\", \"Bob\", \"Charlie\", \"David\", \"Eva\", \"Frank\", \"Grace\", \"Hannah\", \"Ian\", \"Jack\"],\n",
    "    \"age\": [25, 30, 35, 40, 28, 33, 38, 29, 31, 27],\n",
    "    \"salary\": [50000, 60000, 70000, 80000, 55000, 65000, 75000, 58000, 62000, 52000],\n",
    "    \"department\": [\"HR\", \"Finance\", \"IT\", \"Marketing\", \"HR\", \"Finance\", \"IT\", \"Marketing\", \"HR\", \"Finance\"],\n",
    "    \"years_experience\": [2, 5, 10, 7, 3, 6, 8, 4, 5, 2]\n",
    "}"
   ]
  },
  {
   "cell_type": "code",
   "execution_count": 5,
   "metadata": {},
   "outputs": [],
   "source": [
    "df = pd.DataFrame(data)\n"
   ]
  },
  {
   "cell_type": "code",
   "execution_count": 6,
   "id": "3eb2e836",
   "metadata": {},
   "outputs": [
    {
     "data": {
      "text/html": [
       "<div>\n",
       "<style scoped>\n",
       "    .dataframe tbody tr th:only-of-type {\n",
       "        vertical-align: middle;\n",
       "    }\n",
       "\n",
       "    .dataframe tbody tr th {\n",
       "        vertical-align: top;\n",
       "    }\n",
       "\n",
       "    .dataframe thead th {\n",
       "        text-align: right;\n",
       "    }\n",
       "</style>\n",
       "<table border=\"1\" class=\"dataframe\">\n",
       "  <thead>\n",
       "    <tr style=\"text-align: right;\">\n",
       "      <th></th>\n",
       "      <th>name</th>\n",
       "      <th>age</th>\n",
       "      <th>salary</th>\n",
       "      <th>department</th>\n",
       "      <th>years_experience</th>\n",
       "    </tr>\n",
       "  </thead>\n",
       "  <tbody>\n",
       "    <tr>\n",
       "      <th>0</th>\n",
       "      <td>Alice</td>\n",
       "      <td>25</td>\n",
       "      <td>50000</td>\n",
       "      <td>HR</td>\n",
       "      <td>2</td>\n",
       "    </tr>\n",
       "    <tr>\n",
       "      <th>1</th>\n",
       "      <td>Bob</td>\n",
       "      <td>30</td>\n",
       "      <td>60000</td>\n",
       "      <td>Finance</td>\n",
       "      <td>5</td>\n",
       "    </tr>\n",
       "    <tr>\n",
       "      <th>2</th>\n",
       "      <td>Charlie</td>\n",
       "      <td>35</td>\n",
       "      <td>70000</td>\n",
       "      <td>IT</td>\n",
       "      <td>10</td>\n",
       "    </tr>\n",
       "    <tr>\n",
       "      <th>3</th>\n",
       "      <td>David</td>\n",
       "      <td>40</td>\n",
       "      <td>80000</td>\n",
       "      <td>Marketing</td>\n",
       "      <td>7</td>\n",
       "    </tr>\n",
       "    <tr>\n",
       "      <th>4</th>\n",
       "      <td>Eva</td>\n",
       "      <td>28</td>\n",
       "      <td>55000</td>\n",
       "      <td>HR</td>\n",
       "      <td>3</td>\n",
       "    </tr>\n",
       "    <tr>\n",
       "      <th>5</th>\n",
       "      <td>Frank</td>\n",
       "      <td>33</td>\n",
       "      <td>65000</td>\n",
       "      <td>Finance</td>\n",
       "      <td>6</td>\n",
       "    </tr>\n",
       "    <tr>\n",
       "      <th>6</th>\n",
       "      <td>Grace</td>\n",
       "      <td>38</td>\n",
       "      <td>75000</td>\n",
       "      <td>IT</td>\n",
       "      <td>8</td>\n",
       "    </tr>\n",
       "    <tr>\n",
       "      <th>7</th>\n",
       "      <td>Hannah</td>\n",
       "      <td>29</td>\n",
       "      <td>58000</td>\n",
       "      <td>Marketing</td>\n",
       "      <td>4</td>\n",
       "    </tr>\n",
       "    <tr>\n",
       "      <th>8</th>\n",
       "      <td>Ian</td>\n",
       "      <td>31</td>\n",
       "      <td>62000</td>\n",
       "      <td>HR</td>\n",
       "      <td>5</td>\n",
       "    </tr>\n",
       "    <tr>\n",
       "      <th>9</th>\n",
       "      <td>Jack</td>\n",
       "      <td>27</td>\n",
       "      <td>52000</td>\n",
       "      <td>Finance</td>\n",
       "      <td>2</td>\n",
       "    </tr>\n",
       "  </tbody>\n",
       "</table>\n",
       "</div>"
      ],
      "text/plain": [
       "      name  age  salary department  years_experience\n",
       "0    Alice   25   50000         HR                 2\n",
       "1      Bob   30   60000    Finance                 5\n",
       "2  Charlie   35   70000         IT                10\n",
       "3    David   40   80000  Marketing                 7\n",
       "4      Eva   28   55000         HR                 3\n",
       "5    Frank   33   65000    Finance                 6\n",
       "6    Grace   38   75000         IT                 8\n",
       "7   Hannah   29   58000  Marketing                 4\n",
       "8      Ian   31   62000         HR                 5\n",
       "9     Jack   27   52000    Finance                 2"
      ]
     },
     "execution_count": 6,
     "metadata": {},
     "output_type": "execute_result"
    }
   ],
   "source": [
    "df"
   ]
  },
  {
   "cell_type": "code",
   "execution_count": 10,
   "metadata": {},
   "outputs": [
    {
     "name": "stdout",
     "output_type": "stream",
     "text": [
      "<class 'pandas.core.frame.DataFrame'>\n",
      "RangeIndex: 10 entries, 0 to 9\n",
      "Data columns (total 5 columns):\n",
      " #   Column            Non-Null Count  Dtype \n",
      "---  ------            --------------  ----- \n",
      " 0   name              10 non-null     object\n",
      " 1   age               10 non-null     int64 \n",
      " 2   salary            10 non-null     int64 \n",
      " 3   department        10 non-null     object\n",
      " 4   years_experience  10 non-null     int64 \n",
      "dtypes: int64(3), object(2)\n",
      "memory usage: 532.0+ bytes\n"
     ]
    },
    {
     "data": {
      "text/html": [
       "<div>\n",
       "<style scoped>\n",
       "    .dataframe tbody tr th:only-of-type {\n",
       "        vertical-align: middle;\n",
       "    }\n",
       "\n",
       "    .dataframe tbody tr th {\n",
       "        vertical-align: top;\n",
       "    }\n",
       "\n",
       "    .dataframe thead th {\n",
       "        text-align: right;\n",
       "    }\n",
       "</style>\n",
       "<table border=\"1\" class=\"dataframe\">\n",
       "  <thead>\n",
       "    <tr style=\"text-align: right;\">\n",
       "      <th></th>\n",
       "      <th>name</th>\n",
       "      <th>age</th>\n",
       "      <th>salary</th>\n",
       "      <th>department</th>\n",
       "      <th>years_experience</th>\n",
       "    </tr>\n",
       "  </thead>\n",
       "  <tbody>\n",
       "    <tr>\n",
       "      <th>0</th>\n",
       "      <td>Alice</td>\n",
       "      <td>25</td>\n",
       "      <td>50000</td>\n",
       "      <td>HR</td>\n",
       "      <td>2</td>\n",
       "    </tr>\n",
       "    <tr>\n",
       "      <th>1</th>\n",
       "      <td>Bob</td>\n",
       "      <td>30</td>\n",
       "      <td>60000</td>\n",
       "      <td>Finance</td>\n",
       "      <td>5</td>\n",
       "    </tr>\n",
       "  </tbody>\n",
       "</table>\n",
       "</div>"
      ],
      "text/plain": [
       "    name  age  salary department  years_experience\n",
       "0  Alice   25   50000         HR                 2\n",
       "1    Bob   30   60000    Finance                 5"
      ]
     },
     "execution_count": 10,
     "metadata": {},
     "output_type": "execute_result"
    }
   ],
   "source": [
    "df.info()\n",
    "df.head(2)"
   ]
  },
  {
   "cell_type": "code",
   "execution_count": 15,
   "id": "3f5e278c",
   "metadata": {},
   "outputs": [],
   "source": [
    "age_mean = df['age'].mean()\n",
    "age_median = df['age'].median()\n",
    "age_mode = df['age'].mode()[0]"
   ]
  },
  {
   "cell_type": "code",
   "execution_count": 16,
   "id": "0e9f78f7",
   "metadata": {},
   "outputs": [
    {
     "name": "stdout",
     "output_type": "stream",
     "text": [
      "The average age is: 31.6\n",
      "The median age is: 30.5\n",
      "The mode age is: 25\n"
     ]
    }
   ],
   "source": [
    "print(f\"The average age is: {age_mean}\")\n",
    "print(f\"The median age is: {age_median}\")\n",
    "print(f\"The mode age is: {age_mode}\")"
   ]
  },
  {
   "cell_type": "code",
   "execution_count": 17,
   "metadata": {},
   "outputs": [],
   "source": [
    "# min, max, range, variance, standard deviation\n",
    "age_min = df['age'].min()\n",
    "age_max = df['age'].max()\n",
    "age_range = age_max - age_min\n"
   ]
  },
  {
   "cell_type": "code",
   "execution_count": 18,
   "id": "9ff582fc",
   "metadata": {},
   "outputs": [
    {
     "name": "stdout",
     "output_type": "stream",
     "text": [
      "The minimum age is: 25\n",
      "the maximum age is : 40\n",
      "The range of age is : 15\n"
     ]
    }
   ],
   "source": [
    "print( f\"The minimum age is: {age_min}\")\n",
    "print (f\"the maximum age is : {age_max}\")\n",
    "print (f\"The range of age is : {age_range}\")"
   ]
  },
  {
   "cell_type": "code",
   "execution_count": null,
   "id": "4f69c5cc",
   "metadata": {},
   "outputs": [],
   "source": []
  },
  {
   "cell_type": "code",
   "execution_count": null,
   "id": "ee4aa62d",
   "metadata": {},
   "outputs": [],
   "source": []
  },
  {
   "cell_type": "code",
   "execution_count": null,
   "metadata": {},
   "outputs": [],
   "source": []
  }
 ],
 "metadata": {
  "kernelspec": {
   "display_name": "base",
   "language": "python",
   "name": "python3"
  },
  "language_info": {
   "codemirror_mode": {
    "name": "ipython",
    "version": 3
   },
   "file_extension": ".py",
   "mimetype": "text/x-python",
   "name": "python",
   "nbconvert_exporter": "python",
   "pygments_lexer": "ipython3",
   "version": "3.13.5"
  }
 },
 "nbformat": 4,
 "nbformat_minor": 5
}
