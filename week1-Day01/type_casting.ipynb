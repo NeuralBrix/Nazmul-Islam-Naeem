{
 "cells": [
  {
   "cell_type": "code",
   "execution_count": null,
   "id": "974d2ba7",
   "metadata": {},
   "outputs": [
    {
     "name": "stdout",
     "output_type": "stream",
     "text": [
      "integer : 5\n",
      "type of x : <class 'int'>\n",
      "String : 5\n",
      "Type of x after Conversion : <class 'str'>\n",
      "type of floate is : 5.0\n"
     ]
    }
   ],
   "source": [
    "#tye castion\n",
    "\n",
    "x = 5\n",
    "print ('integer :',x)\n",
    "print ('type of x :',type(x))\n",
    "\n",
    "x = str (x)\n",
    "print ('String :',x)\n",
    "print (\"Type of x after Conversion :\", type(x))\n",
    "\n",
    "x = float (x)\n",
    "print(\"type of floate is :\",x)\n",
    "\n",
    "\n"
   ]
  },
  {
   "cell_type": "code",
   "execution_count": null,
   "id": "ff6d816c",
   "metadata": {},
   "outputs": [],
   "source": []
  },
  {
   "cell_type": "code",
   "execution_count": null,
   "id": "404a97d8",
   "metadata": {},
   "outputs": [],
   "source": []
  },
  {
   "cell_type": "code",
   "execution_count": null,
   "id": "5f876bcf",
   "metadata": {},
   "outputs": [],
   "source": []
  },
  {
   "cell_type": "code",
   "execution_count": null,
   "id": "8caed750",
   "metadata": {},
   "outputs": [],
   "source": []
  }
 ],
 "metadata": {
  "kernelspec": {
   "display_name": "base",
   "language": "python",
   "name": "python3"
  },
  "language_info": {
   "codemirror_mode": {
    "name": "ipython",
    "version": 3
   },
   "file_extension": ".py",
   "mimetype": "text/x-python",
   "name": "python",
   "nbconvert_exporter": "python",
   "pygments_lexer": "ipython3",
   "version": "3.13.5"
  }
 },
 "nbformat": 4,
 "nbformat_minor": 5
}
