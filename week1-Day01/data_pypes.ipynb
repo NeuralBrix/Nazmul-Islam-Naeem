{
 "cells": [
  {
   "cell_type": "code",
   "execution_count": 2,
   "id": "d19b4ee5",
   "metadata": {},
   "outputs": [
    {
     "name": "stdout",
     "output_type": "stream",
     "text": [
      "Integer :  5\n"
     ]
    }
   ],
   "source": [
    "#integer\n",
    "x =5\n",
    "print(\"Integer : \",x)"
   ]
  },
  {
   "cell_type": "code",
   "execution_count": 7,
   "id": "653f6b98",
   "metadata": {},
   "outputs": [
    {
     "name": "stdout",
     "output_type": "stream",
     "text": [
      "String is : Nazmul Islam Naeem \n"
     ]
    }
   ],
   "source": [
    "#s\"\"tring\n",
    "name = \"Nazmul Islam Naeem \"\n",
    "print(\"String is :\",name)"
   ]
  },
  {
   "cell_type": "code",
   "execution_count": 6,
   "metadata": {},
   "outputs": [
    {
     "name": "stdout",
     "output_type": "stream",
     "text": [
      "Your Char is : <built-in function chr>\n"
     ]
    }
   ],
   "source": [
    "char = 'A'\n",
    "print(\"Your Char is :\",chr)"
   ]
  },
  {
   "cell_type": "code",
   "execution_count": 8,
   "id": "fb6f62b0",
   "metadata": {},
   "outputs": [
    {
     "name": "stdout",
     "output_type": "stream",
     "text": [
      "your float is :  1.99\n"
     ]
    }
   ],
   "source": [
    "float = '1.99'\n",
    "print('your float is : ',float)"
   ]
  },
  {
   "cell_type": "code",
   "execution_count": null,
   "id": "fb739f14",
   "metadata": {},
   "outputs": [],
   "source": [
    "b = False\n",
    "print('')"
   ]
  },
  {
   "cell_type": "code",
   "execution_count": null,
   "metadata": {},
   "outputs": [],
   "source": []
  },
  {
   "cell_type": "code",
   "execution_count": null,
   "metadata": {},
   "outputs": [],
   "source": []
  },
  {
   "cell_type": "code",
   "execution_count": null,
   "metadata": {},
   "outputs": [],
   "source": []
  },
  {
   "cell_type": "code",
   "execution_count": null,
   "metadata": {},
   "outputs": [],
   "source": []
  },
  {
   "cell_type": "code",
   "execution_count": null,
   "metadata": {},
   "outputs": [],
   "source": []
  },
  {
   "cell_type": "code",
   "execution_count": null,
   "metadata": {},
   "outputs": [],
   "source": []
  },
  {
   "cell_type": "code",
   "execution_count": null,
   "metadata": {},
   "outputs": [],
   "source": []
  },
  {
   "cell_type": "code",
   "execution_count": 1,
   "id": "380c0bb4",
   "metadata": {},
   "outputs": [
    {
     "name": "stdout",
     "output_type": "stream",
     "text": [
      "hello world\n"
     ]
    }
   ],
   "source": [
    "print(\"hello world\")"
   ]
  }
 ],
 "metadata": {
  "kernelspec": {
   "display_name": "base",
   "language": "python",
   "name": "python3"
  },
  "language_info": {
   "codemirror_mode": {
    "name": "ipython",
    "version": 3
   },
   "file_extension": ".py",
   "mimetype": "text/x-python",
   "name": "python",
   "nbconvert_exporter": "python",
   "pygments_lexer": "ipython3",
   "version": "3.13.5"
  }
 },
 "nbformat": 4,
 "nbformat_minor": 5
}
