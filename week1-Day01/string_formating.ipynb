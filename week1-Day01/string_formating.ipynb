{
 "cells": [
  {
   "cell_type": "code",
   "execution_count": 2,
   "id": "5f94fdc1",
   "metadata": {},
   "outputs": [
    {
     "name": "stdout",
     "output_type": "stream",
     "text": [
      "My first Name is Nazmul Islam , and last name is Naeem \n",
      "My first Name is Nazmul Islam , and last name is Naeem \n"
     ]
    },
    {
     "ename": "TypeError",
     "evalue": "object.__format__() takes exactly one argument (2 given)",
     "output_type": "error",
     "traceback": [
      "\u001b[1;31m---------------------------------------------------------------------------\u001b[0m",
      "\u001b[1;31mTypeError\u001b[0m                                 Traceback (most recent call last)",
      "Cell \u001b[1;32mIn[2], line 7\u001b[0m\n\u001b[0;32m      3\u001b[0m Last_name \u001b[38;5;241m=\u001b[39m \u001b[38;5;124m\"\u001b[39m\u001b[38;5;124mNaeem\u001b[39m\u001b[38;5;124m\"\u001b[39m\n\u001b[0;32m      5\u001b[0m \u001b[38;5;28mprint\u001b[39m(\u001b[38;5;124mf\u001b[39m\u001b[38;5;124m\"\u001b[39m\u001b[38;5;124mMy first Name is \u001b[39m\u001b[38;5;132;01m{\u001b[39;00mfrist_name\u001b[38;5;132;01m}\u001b[39;00m\u001b[38;5;124m , and last name is \u001b[39m\u001b[38;5;132;01m{\u001b[39;00mLast_name\u001b[38;5;132;01m}\u001b[39;00m\u001b[38;5;124m \u001b[39m\u001b[38;5;124m\"\u001b[39m)\n\u001b[1;32m----> 7\u001b[0m \u001b[38;5;28mprint\u001b[39m(\u001b[38;5;124mf\u001b[39m\u001b[38;5;124m\"\u001b[39m\u001b[38;5;124mMy first Name is \u001b[39m\u001b[38;5;132;01m{\u001b[39;00mfrist_name\u001b[38;5;132;01m}\u001b[39;00m\u001b[38;5;124m , and last name is \u001b[39m\u001b[38;5;132;01m{\u001b[39;00mLast_name\u001b[38;5;132;01m}\u001b[39;00m\u001b[38;5;124m \u001b[39m\u001b[38;5;124m\"\u001b[39m) \u001b[38;5;241m.\u001b[39m\u001b[38;5;21m__format__\u001b[39m(frist_name, Last_name)\n",
      "\u001b[1;31mTypeError\u001b[0m: object.__format__() takes exactly one argument (2 given)"
     ]
    }
   ],
   "source": [
    "#String Formating\n",
    "frist_name = \"Nazmul Islam\"\n",
    "Last_name = \"Naeem\"\n",
    "\n",
    "print(f\"My first Name is {frist_name} , and last name is {Last_name} \")\n",
    "\n",
    "print(f\"My first Name is {frist_name} , and last name is {Last_name} \") .__format__(frist_name, Last_name)"
   ]
  },
  {
   "cell_type": "code",
   "execution_count": null,
   "id": "9d99e965",
   "metadata": {},
   "outputs": [],
   "source": []
  }
 ],
 "metadata": {
  "kernelspec": {
   "display_name": "base",
   "language": "python",
   "name": "python3"
  },
  "language_info": {
   "codemirror_mode": {
    "name": "ipython",
    "version": 3
   },
   "file_extension": ".py",
   "mimetype": "text/x-python",
   "name": "python",
   "nbconvert_exporter": "python",
   "pygments_lexer": "ipython3",
   "version": "3.13.5"
  }
 },
 "nbformat": 4,
 "nbformat_minor": 5
}
