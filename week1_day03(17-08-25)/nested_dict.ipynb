{
 "cells": [
  {
   "cell_type": "code",
   "execution_count": 14,
   "id": "c8704d38",
   "metadata": {},
   "outputs": [],
   "source": [
    "#nested dictionary\n",
    "\n",
    "\n",
    "one = { \"name\": \"Nazmul\", \"age\": 20, \"address\":\"Dhaka\", \"city\": \"Dhaka\", \"country\": \"Bangladesh\"} \n"
   ]
  },
  {
   "cell_type": "code",
   "execution_count": 15,
   "metadata": {},
   "outputs": [
    {
     "name": "stdout",
     "output_type": "stream",
     "text": [
      "{'name': 'Nazmul', 'age': 20, 'address': 'Dhaka', 'city': 'Dhaka', 'country': 'Bangladesh'}\n"
     ]
    }
   ],
   "source": [
    "one\n",
    "print(one)"
   ]
  },
  {
   "cell_type": "code",
   "execution_count": null,
   "id": "6846bac7",
   "metadata": {},
   "outputs": [],
   "source": [
    "nested_dict = {\"student1\":\"name\""
   ]
  },
  {
   "cell_type": "code",
   "execution_count": 26,
   "id": "e97cf3a7",
   "metadata": {},
   "outputs": [],
   "source": [
    "nested_dict = {\n",
    "    \"person1\": {\n",
    "        \"name\": \"Nazmul\",\n",
    "        \"age\": 20,\n",
    "        \"address\": {\n",
    "            \"city\": \"Dhaka\",\n",
    "            \"country\": \"Bangladesh\"}}}"
   ]
  },
  {
   "cell_type": "code",
   "execution_count": 29,
   "metadata": {},
   "outputs": [
    {
     "name": "stdout",
     "output_type": "stream",
     "text": [
      "20\n"
     ]
    }
   ],
   "source": [
    "print (nested_dict [\"person1\"][\"age\"])"
   ]
  },
  {
   "cell_type": "code",
   "execution_count": 31,
   "id": "51b30d91",
   "metadata": {},
   "outputs": [],
   "source": [
    "nested_dict1 = {\n",
    "    \"student\": {\n",
    "        \"class1\": {\"name\": \"nazmul\", \"age\": 20, \"address\": \"Dhaka\"},\n",
    "        \"class2\": {\"name\": \"naeem\", \"age\": 33, \"address\": \"Sirajgonj\"},\n",
    "        \"class3\": {\"name\": \"noyon\", \"age\": 44, \"address\": \"Dabrgonj\"}\n",
    "    }\n",
    "}"
   ]
  },
  {
   "cell_type": "code",
   "execution_count": 35,
   "metadata": {},
   "outputs": [
    {
     "data": {
      "text/plain": [
       "{'student': {'class1': {'name': 'nazmul', 'age': 20, 'address': 'Dhaka'},\n",
       "  'class2': {'name': 'naeem', 'age': 33, 'address': 'Sirajgonj'},\n",
       "  'class3': {'name': 'noyon', 'age': 44, 'address': 'Dabrgonj'}}}"
      ]
     },
     "execution_count": 35,
     "metadata": {},
     "output_type": "execute_result"
    }
   ],
   "source": [
    "nested_dict1"
   ]
  },
  {
   "cell_type": "code",
   "execution_count": 36,
   "id": "d2211475",
   "metadata": {},
   "outputs": [
    {
     "name": "stdout",
     "output_type": "stream",
     "text": [
      "{'student': {'class1': {'name': 'nazmul', 'age': 20, 'address': 'Dhaka'}, 'class2': {'name': 'naeem', 'age': 33, 'address': 'Sirajgonj'}, 'class3': {'name': 'noyon', 'age': 44, 'address': 'Dabrgonj'}}}\n"
     ]
    }
   ],
   "source": [
    "print (nested_dict1)"
   ]
  },
  {
   "cell_type": "code",
   "execution_count": 37,
   "metadata": {},
   "outputs": [
    {
     "name": "stdout",
     "output_type": "stream",
     "text": [
      "{'class1': {'name': 'nazmul', 'age': 20, 'address': 'Dhaka'}, 'class2': {'name': 'naeem', 'age': 33, 'address': 'Sirajgonj'}, 'class3': {'name': 'noyon', 'age': 44, 'address': 'Dabrgonj'}}\n"
     ]
    }
   ],
   "source": [
    "print (nested_dict1[\"student\"])"
   ]
  },
  {
   "cell_type": "code",
   "execution_count": 39,
   "id": "049126df",
   "metadata": {},
   "outputs": [
    {
     "name": "stdout",
     "output_type": "stream",
     "text": [
      "{'name': 'naeem', 'age': 33, 'address': 'Sirajgonj'}\n"
     ]
    }
   ],
   "source": [
    "print ( nested_dict1[\"student\"][\"class2\"])"
   ]
  },
  {
   "cell_type": "code",
   "execution_count": 50,
   "id": "7dccd658",
   "metadata": {},
   "outputs": [
    {
     "name": "stdout",
     "output_type": "stream",
     "text": [
      "33\n",
      "naeem\n",
      "Sirajgonj\n",
      "{'name': 'naeem', 'age': 33, 'address': 'Sirajgonj'}\n"
     ]
    }
   ],
   "source": [
    "print(nested_dict1[\"student\"][\"class2\"][\"age\"])\n",
    "print(nested_dict1[\"student\"][\"class2\"][\"name\"])\n",
    "print(nested_dict1[\"student\"][\"class2\"][\"address\"])\n",
    "print(nested_dict1[\"student\"][\"class2\"] )\n",
    "\n"
   ]
  },
  {
   "cell_type": "code",
   "execution_count": null,
   "id": "86fdcb28",
   "metadata": {},
   "outputs": [],
   "source": []
  },
  {
   "cell_type": "code",
   "execution_count": null,
   "id": "0a447991",
   "metadata": {},
   "outputs": [],
   "source": []
  },
  {
   "cell_type": "code",
   "execution_count": null,
   "id": "daf283c2",
   "metadata": {},
   "outputs": [],
   "source": []
  },
  {
   "cell_type": "code",
   "execution_count": null,
   "metadata": {},
   "outputs": [],
   "source": []
  }
 ],
 "metadata": {
  "kernelspec": {
   "display_name": "base",
   "language": "python",
   "name": "python3"
  },
  "language_info": {
   "codemirror_mode": {
    "name": "ipython",
    "version": 3
   },
   "file_extension": ".py",
   "mimetype": "text/x-python",
   "name": "python",
   "nbconvert_exporter": "python",
   "pygments_lexer": "ipython3",
   "version": "3.13.5"
  }
 },
 "nbformat": 4,
 "nbformat_minor": 5
}
