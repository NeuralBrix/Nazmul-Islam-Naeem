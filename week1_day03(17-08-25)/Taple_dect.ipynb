{
 "cells": [
  {
   "cell_type": "code",
   "execution_count": 16,
   "id": "c1949710",
   "metadata": {},
   "outputs": [],
   "source": [
    "dect = { (1,2,3,4,): \"This is a tuple\"}"
   ]
  },
  {
   "cell_type": "code",
   "execution_count": 17,
   "id": "d720c960",
   "metadata": {},
   "outputs": [
    {
     "name": "stdout",
     "output_type": "stream",
     "text": [
      "<class 'dict'>\n",
      "This is a tuple\n"
     ]
    }
   ],
   "source": [
    "print(type(dect))\n",
    "print(dect[(1, 2, 3, 4)])  \n"
   ]
  },
  {
   "cell_type": "code",
   "execution_count": 8,
   "id": "df08835e",
   "metadata": {},
   "outputs": [
    {
     "name": "stdout",
     "output_type": "stream",
     "text": [
      "This is a tuple\n",
      "<class 'dict'>\n"
     ]
    }
   ],
   "source": [
    "my_dict = {\n",
    "    (1, 2, 3): \"This is a tuple\"\n",
    "}\n",
    "\n",
    "print(my_dict[(1, 2, 3)])\n",
    "print(type(my_dict))"
   ]
  },
  {
   "cell_type": "code",
   "execution_count": 24,
   "id": "85de0f24",
   "metadata": {},
   "outputs": [],
   "source": [
    "# type of tuple or list\n",
    "#syntax tuple = (1, 2, 3)\n",
    "#syntax list = [1, 2, 3]\n",
    "#syntax dict = {key: value}\n",
    "#syntax set = {1, 2, 3}\n",
    "\n",
    "\n",
    "\n",
    "m_dict = {(1, 2, 3): \"This is a tuple\"}"
   ]
  },
  {
   "cell_type": "code",
   "execution_count": null,
   "id": "2fb4e50e",
   "metadata": {},
   "outputs": [
    {
     "name": "stdout",
     "output_type": "stream",
     "text": [
      "{(1, 2, 3): 'This is a tuple'}\n",
      "<class 'dict'>\n",
      "apple\n",
      "banana\n",
      "cherry\n",
      "cherry\n",
      "banana\n",
      "apple\n",
      "<class 'tuple'>\n"
     ]
    }
   ],
   "source": [
    "print(m_dict)\n",
    "\n",
    "print(type(m_dict))\n",
    "\n",
    "my_boX = (\"apple\", \"banana\", \"cherry\")\n",
    "print(my_boX[0])\n",
    "print(my_boX[1])\n",
    "print(my_boX[2])\n",
    "\n",
    "print(my_boX[-1]) \n",
    "print(my_boX[-2])\n",
    "print(my_boX[-3])\n",
    "\n",
    "print(type(my_boX))"
   ]
  },
  {
   "cell_type": "code",
   "execution_count": 60,
   "id": "8c9731d4",
   "metadata": {},
   "outputs": [
    {
     "data": {
      "text/plain": [
       "{'Accuracy': 0.95, 'Precision': 0.9, 'Recall': 0.85}"
      ]
     },
     "execution_count": 60,
     "metadata": {},
     "output_type": "execute_result"
    }
   ],
   "source": [
    "params = {\"Accuracy\": 0.95, \"Precision\": 0.90, \"Recall\": 0.85}\n",
    "\n",
    " \n",
    "params \n",
    "\n",
    "\n"
   ]
  },
  {
   "cell_type": "code",
   "execution_count": 55,
   "id": "ea46eaa6",
   "metadata": {},
   "outputs": [
    {
     "data": {
      "text/plain": [
       "0.95"
      ]
     },
     "execution_count": 55,
     "metadata": {},
     "output_type": "execute_result"
    }
   ],
   "source": [
    "params.get(\"Accuracy\", \"Not Found\")\n"
   ]
  },
  {
   "cell_type": "code",
   "execution_count": 62,
   "id": "85801c05",
   "metadata": {},
   "outputs": [
    {
     "data": {
      "text/plain": [
       "'Not Found'"
      ]
     },
     "execution_count": 62,
     "metadata": {},
     "output_type": "execute_result"
    }
   ],
   "source": [
    "\n",
    "params.get(\"F1 Score\", \"Not Found\") #get এর মাধ্যমে যদি key না থাকে তাহলে \"Not Found\" return করবে। ত"
   ]
  },
  {
   "cell_type": "code",
   "execution_count": 66,
   "id": "8aec09c0",
   "metadata": {},
   "outputs": [
    {
     "data": {
      "text/plain": [
       "'Not Found'"
      ]
     },
     "execution_count": 66,
     "metadata": {},
     "output_type": "execute_result"
    }
   ],
   "source": [
    "params.pop(\"Accuracy\", \"Not Found\")"
   ]
  },
  {
   "cell_type": "code",
   "execution_count": 67,
   "metadata": {},
   "outputs": [
    {
     "data": {
      "text/plain": [
       "{'Precision': 0.9, 'Recall': 0.85}"
      ]
     },
     "execution_count": 67,
     "metadata": {},
     "output_type": "execute_result"
    }
   ],
   "source": [
    "params"
   ]
  },
  {
   "cell_type": "code",
   "execution_count": null,
   "id": "b195bc0c",
   "metadata": {},
   "outputs": [],
   "source": []
  },
  {
   "cell_type": "code",
   "execution_count": null,
   "metadata": {},
   "outputs": [],
   "source": []
  },
  {
   "cell_type": "code",
   "execution_count": null,
   "id": "6cf35759",
   "metadata": {},
   "outputs": [],
   "source": []
  },
  {
   "cell_type": "code",
   "execution_count": null,
   "metadata": {},
   "outputs": [],
   "source": []
  }
 ],
 "metadata": {
  "kernelspec": {
   "display_name": "base",
   "language": "python",
   "name": "python3"
  },
  "language_info": {
   "codemirror_mode": {
    "name": "ipython",
    "version": 3
   },
   "file_extension": ".py",
   "mimetype": "text/x-python",
   "name": "python",
   "nbconvert_exporter": "python",
   "pygments_lexer": "ipython3",
   "version": "3.13.5"
  }
 },
 "nbformat": 4,
 "nbformat_minor": 5
}
