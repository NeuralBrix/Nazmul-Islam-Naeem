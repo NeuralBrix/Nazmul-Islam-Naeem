{
 "cells": [
  {
   "cell_type": "code",
   "execution_count": null,
   "id": "6a5fa026",
   "metadata": {},
   "outputs": [],
   "source": [
    "# dictionary syntax\n",
    " # students = {\n",
    "#     \"Alice\": 85,\n",
    "#     \"Bob\": 90,\n",
    "#     \"Charlie\": 78\n",
    "# }"
   ]
  },
  {
   "cell_type": "code",
   "execution_count": 1,
   "id": "82126d92",
   "metadata": {},
   "outputs": [
    {
     "name": "stdout",
     "output_type": "stream",
     "text": [
      "{'name': 'Nazmul', 'age': 20, 'city': 'Dhaka'}\n"
     ]
    }
   ],
   "source": [
    "studients = { \"name\": \"Nazmul\", \"age\": 20, \"city\": \"Dhaka\" }\n",
    "\n",
    "print(studients)"
   ]
  },
  {
   "cell_type": "code",
   "execution_count": 3,
   "metadata": {},
   "outputs": [
    {
     "name": "stdout",
     "output_type": "stream",
     "text": [
      "dict_keys(['name', 'age', 'city'])\n",
      "dict_values(['Nazmul', 20, 'Dhaka'])\n"
     ]
    }
   ],
   "source": [
    "print(studients.keys())  # এই ফাংশনটি ডিকশনারির কী গুলো দেখাবে\n",
    "print(studients.values())  # এই ফাংশনটি ডিকশনারির মান গুলো দেখাবে"
   ]
  },
  {
   "cell_type": "code",
   "execution_count": 9,
   "id": "5a69f83d",
   "metadata": {},
   "outputs": [
    {
     "name": "stdout",
     "output_type": "stream",
     "text": [
      "Nazmul\n",
      "20\n"
     ]
    }
   ],
   "source": [
    "print(studients.get('name')) # get ফাংশনটি ডিকশনারির থেকে ভ্যালু বের করতে ব্যবহার করা হয়\n",
    "print(studients.get('age'))"
   ]
  },
  {
   "cell_type": "code",
   "execution_count": 28,
   "metadata": {},
   "outputs": [
    {
     "name": "stdout",
     "output_type": "stream",
     "text": [
      "{'name': 'Nazmul Islam Naeem'}\n",
      "{'name': 'Nazmul Islam Naeem', 'home': 'Dabirgonj'}\n"
     ]
    }
   ],
   "source": [
    "# update method \n",
    "\n",
    "studients.update ({'name': 'Nazmul Islam Naeem'}) # update ফাংশনটি ডিকশনারির মান আপডেট করতে ব্যবহার করা হয়\n",
    "print(studients)\n",
    "\n",
    "studients.update({'home': 'Dabirgonj'}) # নতুন কী-ভ্যালু যোগ করতে update ফাংশন ব্যবহার করা হয়\n",
    "print(studients)\n",
    "\n"
   ]
  },
  {
   "cell_type": "code",
   "execution_count": 24,
   "id": "a15d6f00",
   "metadata": {},
   "outputs": [
    {
     "name": "stdout",
     "output_type": "stream",
     "text": [
      "{'name': 'Nazmul Islam Naeem', 'age': 20, 'city': 'Dhaka', 'home': 'Dabirgonj'}\n"
     ]
    },
    {
     "data": {
      "text/plain": [
       "'Dabirgonj'"
      ]
     },
     "execution_count": 24,
     "metadata": {},
     "output_type": "execute_result"
    }
   ],
   "source": [
    "# pop method \n",
    "\n",
    "print(studients)\n",
    "\n",
    "studients.pop('home') # pop ফাংশনটি ডিকশনারির থেকে একটি কী-ভ্যালু মুছে দিতে ব্যবহার করা হয়\n"
   ]
  },
  {
   "cell_type": "code",
   "execution_count": 35,
   "id": "39ec7798",
   "metadata": {},
   "outputs": [
    {
     "name": "stdout",
     "output_type": "stream",
     "text": [
      "{'name': 'Nazmul Islam Naeem', 'home': 'Dabirgonj'}\n",
      "{'name': 'Nazmul Islam Naeem', 'home': 'Dabirgonj'}\n",
      "{'name': 'Nazmul Islam Naeem', 'home': 'Dabirgonj', 'city': 'dhaka'}\n"
     ]
    }
   ],
   "source": [
    "#copy method\n",
    "print(studients)\n",
    "\n",
    "new_studients = studients.copy()  # copy ফাংশনটি ডিকশনারির একটি কপি তৈরি করতে ব্যবহার করা হয়\n",
    "print(new_studients)  # নতুন ডিকশনারি এখন studients এর কপি হবে\n",
    "new_studients.get('name')\n",
    "new_studients.update({'city':'dhaka'})  # নতুন ডিকশনারিতে city আপডেট করা হচ্ছে\n",
    "print(new_studients)"
   ]
  },
  {
   "cell_type": "code",
   "execution_count": 26,
   "id": "d92b33d2",
   "metadata": {},
   "outputs": [
    {
     "name": "stdout",
     "output_type": "stream",
     "text": [
      "{'name': 'Nazmul Islam Naeem', 'age': 20, 'city': 'Dhaka'}\n",
      "{}\n"
     ]
    }
   ],
   "source": [
    "# clear method\n",
    "print(studients)\n",
    "studients.clear()  # clear ফাংশনটি ডিকশনারির সব কী-ভ্যালু মুছে দিতে ব্যবহার করা হয়\n",
    "print(studients)  # এখন ডিকশনারি খালি হয়ে যাবে"
   ]
  },
  {
   "cell_type": "code",
   "execution_count": null,
   "metadata": {},
   "outputs": [],
   "source": []
  }
 ],
 "metadata": {
  "kernelspec": {
   "display_name": "base",
   "language": "python",
   "name": "python3"
  },
  "language_info": {
   "codemirror_mode": {
    "name": "ipython",
    "version": 3
   },
   "file_extension": ".py",
   "mimetype": "text/x-python",
   "name": "python",
   "nbconvert_exporter": "python",
   "pygments_lexer": "ipython3",
   "version": "3.13.5"
  }
 },
 "nbformat": 4,
 "nbformat_minor": 5
}
