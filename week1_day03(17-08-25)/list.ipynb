{
 "cells": [
  {
   "cell_type": "code",
   "execution_count": 1,
   "id": "c430d0d2",
   "metadata": {},
   "outputs": [
    {
     "name": "stdout",
     "output_type": "stream",
     "text": [
      "hellp world\n"
     ]
    }
   ],
   "source": [
    "print('hellp world')"
   ]
  },
  {
   "cell_type": "code",
   "execution_count": null,
   "metadata": {},
   "outputs": [
    {
     "name": "stdout",
     "output_type": "stream",
     "text": [
      "[1, 2, 3, 4, 5, 6, 7, 8, 9, 10]\n"
     ]
    }
   ],
   "source": [
    "list =[1,2,3,4,5,6,7,8,9,10]\n",
    "print(list)\n"
   ]
  },
  {
   "cell_type": "code",
   "execution_count": null,
   "id": "6e2f1bef",
   "metadata": {},
   "outputs": [
    {
     "name": "stdout",
     "output_type": "stream",
     "text": [
      "4\n",
      "[3, 9]\n",
      "[5, 6, 7, 8, 9, 10]\n",
      "[1, 2, 3, 4, 5]\n"
     ]
    }
   ],
   "source": [
    "print (list[3]) # index print frist print(list_name[insdex number])\n",
    "print (list[2::6]) # print from 2 to 6 index\n",
    "print (list[4:]) # print from 4 to end\n",
    "print(list[:5]) # print from start to 5 index\n"
   ]
  },
  {
   "cell_type": "code",
   "execution_count": 17,
   "metadata": {},
   "outputs": [
    {
     "name": "stdout",
     "output_type": "stream",
     "text": [
      "7\n",
      "[9, 10]\n",
      "[8, 9]\n"
     ]
    }
   ],
   "source": [
    "print (list [-4]) # print from end to 4th index\n",
    "print (list[-2:]) # print from end to 2nd index\n",
    "print (list[-3:-1]) # print from end to 3rd index to 1st index"
   ]
  },
  {
   "cell_type": "code",
   "execution_count": 25,
   "id": "77f5c670",
   "metadata": {},
   "outputs": [
    {
     "name": "stdout",
     "output_type": "stream",
     "text": [
      "[10, 2, 3, 44, 5, 6, 7, 8, 9, 10]\n",
      "[20, 2, 3, 44, 5, 6, 7, 8, 9, 10]\n"
     ]
    }
   ],
   "source": [
    "print (list)\n",
    "\n",
    "list [0] = 20 # change the value of index 0\n",
    "list [3] = 44 # change the value of index 3\n",
    "print (list)"
   ]
  },
  {
   "cell_type": "code",
   "execution_count": 87,
   "metadata": {},
   "outputs": [
    {
     "name": "stdout",
     "output_type": "stream",
     "text": [
      "[10, 100, 100, 100, 100, 100, 100, 9, 8, 7, 6, 5, 44, 3, 2, 20]\n",
      "[10, 100, 100, 100, 100, 100, 100, 100, 9, 8, 7, 6, 5, 44, 3, 2, 20]\n"
     ]
    }
   ],
   "source": [
    "print(list)\n",
    "\n",
    "# list.append(100) # add 100 at the end of the list\n",
    "# print(list)   \n",
    "\n",
    "list.insert(1, 100) # insert 100 at index 2\n",
    "print(list)"
   ]
  },
  {
   "cell_type": "code",
   "execution_count": 89,
   "id": "6be71fd5",
   "metadata": {},
   "outputs": [
    {
     "name": "stdout",
     "output_type": "stream",
     "text": [
      "[20, 2, 3, 44, 5, 6, 7, 8, 9, 100, 100, 100, 100, 100, 100, 10]\n",
      "[20, 2, 3, 44, 5, 6, 7, 8, 9, 100, 100, 100, 100, 100, 10]\n",
      "[10, 100, 100, 100, 100, 100, 9, 8, 7, 6, 5, 44, 3, 2, 20]\n",
      "[2, 3, 5, 6, 7, 8, 9, 10, 20, 44, 100, 100, 100, 100, 100]\n"
     ]
    }
   ],
   "source": [
    "print(list)\n",
    "# list.remove(100) # remove 100 from the list\n",
    "# print(list)\n",
    "\n",
    "list.remove(100) # remove 100 from the list\n",
    "print(list)\n",
    "\n",
    "list.reverse() # reverse the list\n",
    "print(list)\n",
    "\n",
    "list.sort() # sort the list\n",
    "print(list)\n",
    "\n"
   ]
  },
  {
   "cell_type": "code",
   "execution_count": null,
   "metadata": {},
   "outputs": [],
   "source": []
  },
  {
   "cell_type": "code",
   "execution_count": null,
   "id": "ba172489",
   "metadata": {},
   "outputs": [],
   "source": []
  },
  {
   "cell_type": "code",
   "execution_count": null,
   "metadata": {},
   "outputs": [],
   "source": []
  }
 ],
 "metadata": {
  "kernelspec": {
   "display_name": "base",
   "language": "python",
   "name": "python3"
  },
  "language_info": {
   "codemirror_mode": {
    "name": "ipython",
    "version": 3
   },
   "file_extension": ".py",
   "mimetype": "text/x-python",
   "name": "python",
   "nbconvert_exporter": "python",
   "pygments_lexer": "ipython3",
   "version": "3.13.5"
  }
 },
 "nbformat": 4,
 "nbformat_minor": 5
}
