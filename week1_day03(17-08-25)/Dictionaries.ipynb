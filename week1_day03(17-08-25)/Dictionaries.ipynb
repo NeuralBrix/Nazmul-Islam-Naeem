{
 "cells": [
  {
   "cell_type": "code",
   "execution_count": null,
   "id": "0dca5d1b",
   "metadata": {},
   "outputs": [],
   "source": [
    "#DictionarieS SYNTAX\n",
    "# A dictionary is a collection which is unordered, changeable and indexed.\n",
    "#  In Python dictionaries are written with curly brackets, and they have keys and values."
   ]
  },
  {
   "cell_type": "code",
   "execution_count": 8,
   "id": "38ff5062",
   "metadata": {},
   "outputs": [
    {
     "name": "stdout",
     "output_type": "stream",
     "text": [
      "{'name': 'Nazmul Islam Naeem', 'age': 20, 'city': 'Dhaka', 'is_student': True}\n",
      "Nazmul Islam Naeem\n",
      "20\n"
     ]
    }
   ],
   "source": [
    "my_dict = {\n",
    "    \"name\": \"Nazmul Islam Naeem\",\n",
    "    \"age\": 20,\n",
    "    \"age\":20,\n",
    "    \"city\": \"Dhaka\",\n",
    "    \"is_student\": True\n",
    "}\n",
    "\n",
    "print(my_dict)  # print the entire dictionary\n",
    "print(my_dict[\"name\"])  # print the value of key \"name\"\n",
    "print(my_dict[\"age\"])   "
   ]
  },
  {
   "cell_type": "code",
   "execution_count": 12,
   "id": "f4d72f5f",
   "metadata": {},
   "outputs": [
    {
     "name": "stdout",
     "output_type": "stream",
     "text": [
      "Nazmul Islam Naeem\n",
      "20\n"
     ]
    }
   ],
   "source": [
    "print (my_dict[\"name\"]) # print the value of key \"name\"\n",
    "\n",
    "print (my_dict[\"age\"]) # print the value of key \"age\""
   ]
  },
  {
   "cell_type": "code",
   "execution_count": 18,
   "id": "99fc89e4",
   "metadata": {},
   "outputs": [
    {
     "name": "stdout",
     "output_type": "stream",
     "text": [
      "44\n"
     ]
    }
   ],
   "source": [
    "print (my_dict[\"age\"])\n",
    "\n",
    "my_dict [\"age\"] = 44 "
   ]
  },
  {
   "cell_type": "code",
   "execution_count": null,
   "id": "de228b45",
   "metadata": {},
   "outputs": [
    {
     "name": "stdout",
     "output_type": "stream",
     "text": [
      "{'name': 'Nazmul Islam Naeem', 'age': 44, 'city': 'Dhaka', 'is_student': True}\n",
      "{'name': 'Nazmul Islam Naeem', 'age': 44, 'city': 'Dhaka', 'is_student': True}\n",
      "{'name': 'Nazmul Islam Naeem', 'age': 33, 'city': 'Dhaka', 'is_student': True}\n"
     ]
    }
   ],
   "source": [
    "print(my_dict)\n",
    "\n",
    "cp_dict = my_dict.copy()\n",
    "print(cp_dict)  # print the copied dictionary\n",
    "\n",
    "cp_dict[\"age\"]=33\n",
    "print(cp_dict)\n",
    "\n"
   ]
  },
  {
   "cell_type": "code",
   "execution_count": null,
   "id": "1d4eb1ce",
   "metadata": {},
   "outputs": [
    {
     "ename": "NameError",
     "evalue": "name 'my_dict' is not defined",
     "output_type": "error",
     "traceback": [
      "\u001b[1;31m---------------------------------------------------------------------------\u001b[0m",
      "\u001b[1;31mNameError\u001b[0m                                 Traceback (most recent call last)",
      "Cell \u001b[1;32mIn[4], line 1\u001b[0m\n\u001b[1;32m----> 1\u001b[0m \u001b[38;5;28mprint\u001b[39m(my_dict)\n",
      "\u001b[1;31mNameError\u001b[0m: name 'my_dict' is not defined"
     ]
    }
   ],
   "source": []
  },
  {
   "cell_type": "code",
   "execution_count": null,
   "id": "5d9fa0ba",
   "metadata": {},
   "outputs": [],
   "source": []
  }
 ],
 "metadata": {
  "kernelspec": {
   "display_name": "base",
   "language": "python",
   "name": "python3"
  },
  "language_info": {
   "codemirror_mode": {
    "name": "ipython",
    "version": 3
   },
   "file_extension": ".py",
   "mimetype": "text/x-python",
   "name": "python",
   "nbconvert_exporter": "python",
   "pygments_lexer": "ipython3",
   "version": "3.13.5"
  }
 },
 "nbformat": 4,
 "nbformat_minor": 5
}
