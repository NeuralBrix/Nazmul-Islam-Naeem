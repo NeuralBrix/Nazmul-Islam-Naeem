{
 "cells": [
  {
   "cell_type": "code",
   "execution_count": 8,
   "id": "a309fe92",
   "metadata": {},
   "outputs": [],
   "source": [
    "import pandas as pd "
   ]
  },
  {
   "cell_type": "code",
   "execution_count": 9,
   "id": "aa70e6ba",
   "metadata": {},
   "outputs": [],
   "source": [
    "data = {\n",
    "    \"height_cm\": [170, 165, 180, 175, 172, 168, 180, 175],\n",
    "    \"weight_kg\": [65, 70, 80, 75, 72, 66, 80, 75],\n",
    "    \"age\":       [25, 30, 35, 40, 28, 32, 35, 40],\n",
    "    \"city\":      [\"Dhaka\", \"Chattogram\", \"Dhaka\", \"Khulna\", \"Dhaka\", \"Dhaka\", \"Sylhet\", \"Khulna\"],\n",
    "}"
   ]
  },
  {
   "cell_type": "code",
   "execution_count": 10,
   "id": "022bee18",
   "metadata": {},
   "outputs": [],
   "source": [
    "df = pd.DataFrame(data)\n"
   ]
  },
  {
   "cell_type": "code",
   "execution_count": 12,
   "metadata": {},
   "outputs": [
    {
     "name": "stdout",
     "output_type": "stream",
     "text": [
      "   height_cm  weight_kg  age        city\n",
      "0        170         65   25       Dhaka\n",
      "1        165         70   30  Chattogram\n",
      "2        180         80   35       Dhaka\n",
      "3        175         75   40      Khulna\n",
      "4        172         72   28       Dhaka\n",
      "5        168         66   32       Dhaka\n",
      "6        180         80   35      Sylhet\n",
      "7        175         75   40      Khulna\n"
     ]
    }
   ],
   "source": [
    "print(df)"
   ]
  },
  {
   "cell_type": "code",
   "execution_count": null,
   "id": "57e6e474",
   "metadata": {},
   "outputs": [],
   "source": [
    "#mean median mode apply for weight_kg column"
   ]
  },
  {
   "cell_type": "code",
   "execution_count": 18,
   "id": "0d19dfa1",
   "metadata": {},
   "outputs": [
    {
     "data": {
      "text/plain": [
       "0    65\n",
       "1    70\n",
       "2    80\n",
       "3    75\n",
       "4    72\n",
       "5    66\n",
       "6    80\n",
       "7    75\n",
       "Name: weight_kg, dtype: int64"
      ]
     },
     "execution_count": 18,
     "metadata": {},
     "output_type": "execute_result"
    }
   ],
   "source": [
    "df.weight_kg"
   ]
  },
  {
   "cell_type": "code",
   "execution_count": null,
   "metadata": {},
   "outputs": [
    {
     "name": "stdout",
     "output_type": "stream",
     "text": [
      "Mean: 72.875\n"
     ]
    }
   ],
   "source": [
    "df.weight_kg.mean()"
   ]
  },
  {
   "cell_type": "code",
   "execution_count": 22,
   "id": "697c464a",
   "metadata": {},
   "outputs": [
    {
     "name": "stdout",
     "output_type": "stream",
     "text": [
      "Mean: 72.875\n"
     ]
    }
   ],
   "source": [
    "mean_value = df.weight_kg.mean()\n",
    "print(\"Mean:\", mean_value)"
   ]
  },
  {
   "cell_type": "code",
   "execution_count": null,
   "metadata": {},
   "outputs": [],
   "source": []
  }
 ],
 "metadata": {
  "kernelspec": {
   "display_name": "base",
   "language": "python",
   "name": "python3"
  },
  "language_info": {
   "codemirror_mode": {
    "name": "ipython",
    "version": 3
   },
   "file_extension": ".py",
   "mimetype": "text/x-python",
   "name": "python",
   "nbconvert_exporter": "python",
   "pygments_lexer": "ipython3",
   "version": "3.13.5"
  }
 },
 "nbformat": 4,
 "nbformat_minor": 5
}
