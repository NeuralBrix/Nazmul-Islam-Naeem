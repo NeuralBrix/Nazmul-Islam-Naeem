{
 "cells": [
  {
   "cell_type": "code",
   "execution_count": 1,
   "id": "ef2a757d",
   "metadata": {},
   "outputs": [
    {
     "name": "stdout",
     "output_type": "stream",
     "text": [
      "hello world\n"
     ]
    }
   ],
   "source": [
    "print (\"hello world\")"
   ]
  },
  {
   "cell_type": "code",
   "execution_count": 4,
   "id": "89feaf5d",
   "metadata": {},
   "outputs": [],
   "source": [
    "my_list = [65, 70, 80, 75, 72, 66, 80, 75]"
   ]
  },
  {
   "cell_type": "code",
   "execution_count": 7,
   "metadata": {},
   "outputs": [
    {
     "name": "stdout",
     "output_type": "stream",
     "text": [
      "583\n",
      "8\n",
      "Mean is: 72.875\n"
     ]
    }
   ],
   "source": [
    "#sum of the list\n",
    "total = sum(my_list)\n",
    "print(total)\n",
    "print (len(my_list))\n",
    "\n",
    "\n",
    "mean = total / len(my_list)\n",
    "print(\"Mean is:\", mean)"
   ]
  },
  {
   "cell_type": "code",
   "execution_count": null,
   "id": "bd97ffb8",
   "metadata": {},
   "outputs": [
    {
     "name": "stdout",
     "output_type": "stream",
     "text": [
      "[65, 66, 70, 72, 75, 75, 80, 80]\n"
     ]
    }
   ],
   "source": [
    "my_median = [65, 70, 80, 75, 72, 66, 80, 75]\n",
    "\n",
    "print (sorted(my_median))"
   ]
  },
  {
   "cell_type": "code",
   "execution_count": 17,
   "id": "91b9e0c7",
   "metadata": {},
   "outputs": [
    {
     "name": "stdout",
     "output_type": "stream",
     "text": [
      "75\n",
      "72\n",
      "The sum of the middle two values is: 147\n",
      "Median is: 73.5\n"
     ]
    }
   ],
   "source": [
    "#this is a even number of list \n",
    "# so The sum of the middle two values and divide by 2\n",
    "\n",
    "#find the middle two values\n",
    "print (my_median[3])\n",
    "print (my_median[4])\n",
    "\n",
    "sum = my_median[3] + my_median[4] \n",
    "print (\"The sum of the middle two values is:\", sum)\n",
    "\n",
    "median = sum / 2\n",
    "\n",
    "print (\"Median is:\", median)\n"
   ]
  },
  {
   "cell_type": "code",
   "execution_count": 18,
   "metadata": {},
   "outputs": [
    {
     "name": "stdout",
     "output_type": "stream",
     "text": [
      "[65, 66, 70, 72, 75, 75, 80, 80]\n"
     ]
    }
   ],
   "source": [
    "#mode \n",
    "my_mode =[65, 70, 80, 75, 72, 66, 80, 75]\n",
    "\n",
    "print (sorted(my_mode))"
   ]
  },
  {
   "cell_type": "code",
   "execution_count": null,
   "id": "fd7c90a8",
   "metadata": {},
   "outputs": [],
   "source": [
    "#Most frequent value\n",
    "\n"
   ]
  },
  {
   "cell_type": "code",
   "execution_count": null,
   "metadata": {},
   "outputs": [],
   "source": []
  }
 ],
 "metadata": {
  "kernelspec": {
   "display_name": "base",
   "language": "python",
   "name": "python3"
  },
  "language_info": {
   "codemirror_mode": {
    "name": "ipython",
    "version": 3
   },
   "file_extension": ".py",
   "mimetype": "text/x-python",
   "name": "python",
   "nbconvert_exporter": "python",
   "pygments_lexer": "ipython3",
   "version": "3.13.5"
  }
 },
 "nbformat": 4,
 "nbformat_minor": 5
}
