{
 "cells": [
  {
   "cell_type": "code",
   "execution_count": 8,
   "id": "70d1da03",
   "metadata": {},
   "outputs": [
    {
     "name": "stdout",
     "output_type": "stream",
     "text": [
      "10 20 30\n",
      "10 20 30\n"
     ]
    }
   ],
   "source": [
    "#positional parameter\n",
    "def my_position( a, b , /, c):  # a , b are positional parameter and c is keyword parameter\n",
    "    print(a, b, c)\n",
    "\n",
    "my_position(10, 20, c = 30)  # function call with argument\n",
    "\n",
    "\n",
    "#keyword parameter\n",
    "\n",
    "def my_keyword(*, a, b, c):  # a , b , c are keyword parameter\n",
    "    print(a, b, c)      \n",
    "\n",
    "my_keyword(a = 10, b = 20, c = 30)  # function call with argument"
   ]
  },
  {
   "cell_type": "code",
   "execution_count": null,
   "id": "50d78de8",
   "metadata": {},
   "outputs": [],
   "source": []
  },
  {
   "cell_type": "code",
   "execution_count": null,
   "metadata": {},
   "outputs": [],
   "source": []
  }
 ],
 "metadata": {
  "kernelspec": {
   "display_name": "base",
   "language": "python",
   "name": "python3"
  },
  "language_info": {
   "codemirror_mode": {
    "name": "ipython",
    "version": 3
   },
   "file_extension": ".py",
   "mimetype": "text/x-python",
   "name": "python",
   "nbconvert_exporter": "python",
   "pygments_lexer": "ipython3",
   "version": "3.13.5"
  }
 },
 "nbformat": 4,
 "nbformat_minor": 5
}
