{
 "cells": [
  {
   "cell_type": "code",
   "execution_count": 2,
   "id": "549fdadc",
   "metadata": {},
   "outputs": [
    {
     "name": "stdout",
     "output_type": "stream",
     "text": [
      "Hello World\n"
     ]
    }
   ],
   "source": [
    "def my_F (): # Function definition\n",
    "    print(\"Hello World\") # Function body\n",
    "my_F () # Function call"
   ]
  },
  {
   "cell_type": "code",
   "execution_count": 6,
   "metadata": {},
   "outputs": [
    {
     "name": "stdout",
     "output_type": "stream",
     "text": [
      "Hello, I am Naeem\n",
      "Hello, MY Name is Naeem\n",
      "Hello, I am Nazmul\n",
      "Hello, MY Name is Nazmul\n"
     ]
    }
   ],
   "source": [
    "#paramiter and arguments\n",
    "\n",
    "def my_F2 (name):  # Function definition with parameter\n",
    "    print(\"Hello, I am \" + name) # Function body\n",
    "    print(\"Hello, MY Name is \" + name) # Function body\n",
    "\n",
    "\n",
    "my_F2 (\"Naeem\") # Function call with argument\n",
    "\n",
    "\n",
    "my_F2 (\"Nazmul\") # Function call with argument"
   ]
  },
  {
   "cell_type": "code",
   "execution_count": 8,
   "id": "58aeddd0",
   "metadata": {},
   "outputs": [
    {
     "name": "stdout",
     "output_type": "stream",
     "text": [
      "Hello, I am Naeem and I am 23 years Old\n"
     ]
    }
   ],
   "source": [
    "def my_F3 (name, age):  # Function definition with parameter\n",
    "    print (\"Hello, I am {name} and I am {age} years Old\" .format(name=name, age=age)) # Function body\n",
    "my_F3 (\"Naeem\", 23) # Function call with argument"
   ]
  },
  {
   "cell_type": "code",
   "execution_count": 9,
   "id": "3850b930",
   "metadata": {},
   "outputs": [
    {
     "name": "stdout",
     "output_type": "stream",
     "text": [
      "Hello, I am Naeem and I am 23 years Old\n"
     ]
    }
   ],
   "source": [
    "def my_F3 (name, age):  # Function definition with parameter\n",
    "    print (\"Hello, I am {names} and I am {age} years Old\" .format(names=name, age=age)) # Function body\n",
    "my_F3 (\"Naeem\", 23) # Function call with argument"
   ]
  },
  {
   "cell_type": "code",
   "execution_count": null,
   "metadata": {},
   "outputs": [],
   "source": []
  },
  {
   "cell_type": "code",
   "execution_count": null,
   "id": "52a4dd08",
   "metadata": {},
   "outputs": [],
   "source": []
  }
 ],
 "metadata": {
  "kernelspec": {
   "display_name": "base",
   "language": "python",
   "name": "python3"
  },
  "language_info": {
   "codemirror_mode": {
    "name": "ipython",
    "version": 3
   },
   "file_extension": ".py",
   "mimetype": "text/x-python",
   "name": "python",
   "nbconvert_exporter": "python",
   "pygments_lexer": "ipython3",
   "version": "3.13.5"
  }
 },
 "nbformat": 4,
 "nbformat_minor": 5
}
